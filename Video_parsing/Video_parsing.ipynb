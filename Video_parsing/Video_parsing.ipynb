{
 "cells": [
  {
   "cell_type": "markdown",
   "metadata": {},
   "source": [
    "# Video parsing frame by frame"
   ]
  },
  {
   "cell_type": "markdown",
   "metadata": {},
   "source": [
    "## Goals"
   ]
  },
  {
   "cell_type": "markdown",
   "metadata": {},
   "source": [
    "This code snippet parsing video frame by frame. You have to run this piece of code direct in command line because Jupyter notebook doesn't working well with file system."
   ]
  },
  {
   "cell_type": "markdown",
   "metadata": {},
   "source": [
    "## Code"
   ]
  },
  {
   "cell_type": "code",
   "execution_count": null,
   "metadata": {
    "collapsed": true
   },
   "outputs": [],
   "source": [
    "import cv2\n",
    "\n",
    "# pPathSourceVideo - path to source video\n",
    "# pPathDestinationFolder - path to destination folder\n",
    "# fromFrame - parse video from frame\n",
    "# toFrame - parse video ti frame\n",
    "def video_parsing(pPathSourceVideo, pPathDestinationFolder, fromFrame, toFrame):\n",
    "    print (\"Start video parsing.\")\n",
    "    capture = cv2.VideoCapture(pPathSourceVideo)\n",
    "\n",
    "    count = 0\n",
    "    while(capture.isOpened()):\n",
    "        ret, frame = capture.read()\n",
    "        if ret == False or toFrame == count:\n",
    "            print (\"End video parsing.\")\n",
    "            break\n",
    "        if fromFrame <= count & count < toFrame:\n",
    "            cv2.imwrite(pPathDestinationFolder + \"/frame_%d.jpg\" %count, frame)\n",
    "        count += 1    \n",
    "\n",
    "    capture.release()"
   ]
  }
 ],
 "metadata": {
  "anaconda-cloud": {},
  "kernelspec": {
   "display_name": "Python [conda root]",
   "language": "python",
   "name": "conda-root-py"
  },
  "language_info": {
   "codemirror_mode": {
    "name": "ipython",
    "version": 3
   },
   "file_extension": ".py",
   "mimetype": "text/x-python",
   "name": "python",
   "nbconvert_exporter": "python",
   "pygments_lexer": "ipython3",
   "version": "3.5.2"
  }
 },
 "nbformat": 4,
 "nbformat_minor": 1
}
